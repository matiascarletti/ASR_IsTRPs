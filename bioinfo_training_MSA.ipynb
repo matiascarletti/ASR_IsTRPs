{
  "nbformat": 4,
  "nbformat_minor": 0,
  "metadata": {
    "colab": {
      "name": "bioinfo-training_MSA.ipynb",
      "provenance": [],
      "collapsed_sections": [],
      "authorship_tag": "ABX9TyM0cB/phh3cqqvVV99wYiXk",
      "include_colab_link": true
    },
    "kernelspec": {
      "name": "python3",
      "display_name": "Python 3"
    }
  },
  "cells": [
    {
      "cell_type": "markdown",
      "metadata": {
        "id": "view-in-github",
        "colab_type": "text"
      },
      "source": [
        "<a href=\"https://colab.research.google.com/github/matiascarletti/ASR_IsTRPs/blob/master/bioinfo_training_MSA.ipynb\" target=\"_parent\"><img src=\"https://colab.research.google.com/assets/colab-badge.svg\" alt=\"Open In Colab\"/></a>"
      ]
    },
    {
      "cell_type": "markdown",
      "metadata": {
        "id": "VLFKVMoOsoL6",
        "colab_type": "text"
      },
      "source": [
        "# Seteo del Proyecto"
      ]
    },
    {
      "cell_type": "markdown",
      "metadata": {
        "id": "zpMa6kPuM9Xf",
        "colab_type": "text"
      },
      "source": [
        "## Montado de Google Drive (*default location*)"
      ]
    },
    {
      "cell_type": "code",
      "metadata": {
        "id": "6A1tjxfxifz-",
        "colab_type": "code",
        "colab": {
          "base_uri": "https://localhost:8080/",
          "height": 146
        },
        "outputId": "e2c5574d-07d0-473c-ae69-ae8022c12e6c"
      },
      "source": [
        "# Mount Google Drive\n",
        "from google.colab import drive # import drive from google colab\n",
        "\n",
        "ROOT = \"/content/drive\"     # default location for the drive\n",
        "print(ROOT)                 # print content of ROOT (Optional)\n",
        "\n",
        "drive.mount(ROOT)           # we mount the google drive at /content/drive"
      ],
      "execution_count": 2,
      "outputs": [
        {
          "output_type": "stream",
          "text": [
            "/content/drive\n",
            "Go to this URL in a browser: https://accounts.google.com/o/oauth2/auth?client_id=947318989803-6bn6qk8qdgf4n4g3pfee6491hc0brc4i.apps.googleusercontent.com&redirect_uri=urn%3aietf%3awg%3aoauth%3a2.0%3aoob&response_type=code&scope=email%20https%3a%2f%2fwww.googleapis.com%2fauth%2fdocs.test%20https%3a%2f%2fwww.googleapis.com%2fauth%2fdrive%20https%3a%2f%2fwww.googleapis.com%2fauth%2fdrive.photos.readonly%20https%3a%2f%2fwww.googleapis.com%2fauth%2fpeopleapi.readonly\n",
            "\n",
            "Enter your authorization code:\n",
            "··········\n",
            "Mounted at /content/drive\n"
          ],
          "name": "stdout"
        }
      ]
    },
    {
      "cell_type": "markdown",
      "metadata": {
        "id": "BJGJeUEvLpvS",
        "colab_type": "text"
      },
      "source": [
        "## Clonado del repositorio de GitHub"
      ]
    },
    {
      "cell_type": "markdown",
      "metadata": {
        "id": "MokfRsFKMi1f",
        "colab_type": "text"
      },
      "source": [
        "### Variables a rutas de carpetas\n",
        "### *Variables to folder paths*"
      ]
    },
    {
      "cell_type": "code",
      "metadata": {
        "id": "9DqEsYHYH96c",
        "colab_type": "code",
        "colab": {
          "base_uri": "https://localhost:8080/",
          "height": 92
        },
        "outputId": "2f35d102-464e-4bcc-e506-a3f185419b3c"
      },
      "source": [
        "# Clone github repository setup\n",
        "# import join used to join ROOT path and MY_GOOGLE_DRIVE_PATH\n",
        "from os.path import join  \n",
        "\n",
        "# replace with your Github username \n",
        "GIT_USERNAME = \"matiascarletti\" \n",
        "# definitely replace with your\n",
        "GIT_TOKEN = \"e3db3485dbfc060c93f892fc7f55da6985028d1d\"  \n",
        "# Replace with your github repository in this case we want \n",
        "# to clone such <repository_name> repository\n",
        "GIT_REPOSITORY = \"bioinfo-training\"\n",
        "#GIT_PATH = \"https://{GIT_TOKEN}@github.com/{GIT_USERNAME}/{GIT_REPOSITORY}.git\" this return 400 Bad Request for me\n",
        "GIT_PATH = \"https://\" + GIT_TOKEN + \"@github.com/\" + GIT_USERNAME + \"/\" + GIT_REPOSITORY + \".git\"\n",
        "print(\"GIT_PATH: \", GIT_PATH)\n",
        "\n",
        "# path to your project on Google Drive\n",
        "MY_GOOGLE_DRIVE_PATH = 'My Drive/Projects_phD/2020/'\n",
        "PROJECT_PATH = join(ROOT, MY_GOOGLE_DRIVE_PATH, GIT_REPOSITORY)\n",
        "\n",
        "# It's good to print out the value if you are not sure \n",
        "print(\"PROJECT_PATH: \", PROJECT_PATH)   \n",
        "\n",
        "# In case we haven't created the folder already; we will create a folder in the project path \n",
        "!mkdir \"{PROJECT_PATH}\"    \n"
      ],
      "execution_count": 3,
      "outputs": [
        {
          "output_type": "stream",
          "text": [
            "GIT_PATH:  https://e3db3485dbfc060c93f892fc7f55da6985028d1d@github.com/matiascarletti/bioinfo-training.git\n",
            "PROJECT_PATH:  /content/drive/My Drive/Projects_phD/2020/bioinfo-training\n",
            "mkdir: cannot create directory ‘/content/drive/My Drive/Projects_phD/2020/bioinfo-training’: File exists\n"
          ],
          "name": "stdout"
        }
      ]
    },
    {
      "cell_type": "markdown",
      "metadata": {
        "id": "lw-1jghIL5Lg",
        "colab_type": "text"
      },
      "source": [
        "### Clonado de repositorio Git-Hub a carpeta de \"Projects_phD/-año-/-nombre_del_proyect-\" de Drive"
      ]
    },
    {
      "cell_type": "code",
      "metadata": {
        "id": "XThR1DRmGxy_",
        "colab_type": "code",
        "colab": {
          "base_uri": "https://localhost:8080/",
          "height": 72
        },
        "outputId": "4d64c176-4bf7-45e2-e04e-049772b1e028"
      },
      "source": [
        "import os\n",
        "os.chdir(PROJECT_PATH)\n",
        "# %cd \"{PROJECT_PATH}\"    # Change directory to the location defined in project_path \n",
        "!git clone \"{GIT_PATH}\" # clone the github repository\n",
        "\n",
        "print(os.getcwd())\n",
        "print(os.listdir())"
      ],
      "execution_count": 4,
      "outputs": [
        {
          "output_type": "stream",
          "text": [
            "fatal: destination path 'bioinfo-training' already exists and is not an empty directory.\n",
            "/content/drive/My Drive/Projects_phD/2020/bioinfo-training\n",
            "['bioinfo-training', 'data']\n"
          ],
          "name": "stdout"
        }
      ]
    },
    {
      "cell_type": "markdown",
      "metadata": {
        "id": "5hIEinuLBf9W",
        "colab_type": "text"
      },
      "source": [
        "# Multiple Sequence Alignement (MSA)"
      ]
    },
    {
      "cell_type": "markdown",
      "metadata": {
        "id": "lKslw8kh19ic",
        "colab_type": "text"
      },
      "source": [
        "## Installing and Importing of packages\n",
        "\n",
        "*   **Biopython**[texto del vínculo](https://) > install & import\n",
        "*   **Pandas** > import\n",
        "\n"
      ]
    },
    {
      "cell_type": "code",
      "metadata": {
        "id": "rLuxSaNG_MyU",
        "colab_type": "code",
        "colab": {
          "base_uri": "https://localhost:8080/",
          "height": 146
        },
        "outputId": "505fcde9-9046-4531-95f9-37367557510d"
      },
      "source": [
        "!pip3 install Biopython"
      ],
      "execution_count": 5,
      "outputs": [
        {
          "output_type": "stream",
          "text": [
            "Collecting Biopython\n",
            "\u001b[?25l  Downloading https://files.pythonhosted.org/packages/a8/66/134dbd5f885fc71493c61b6cf04c9ea08082da28da5ed07709b02857cbd0/biopython-1.77-cp36-cp36m-manylinux1_x86_64.whl (2.3MB)\n",
            "\u001b[K     |████████████████████████████████| 2.3MB 4.7MB/s \n",
            "\u001b[?25hRequirement already satisfied: numpy in /usr/local/lib/python3.6/dist-packages (from Biopython) (1.18.5)\n",
            "Installing collected packages: Biopython\n",
            "Successfully installed Biopython-1.77\n"
          ],
          "name": "stdout"
        }
      ]
    },
    {
      "cell_type": "markdown",
      "metadata": {
        "id": "TCUVpivdFUOA",
        "colab_type": "text"
      },
      "source": [
        "### Biopython\n",
        "* Clustalw"
      ]
    },
    {
      "cell_type": "code",
      "metadata": {
        "id": "S8e6kQbm_Tni",
        "colab_type": "code",
        "colab": {}
      },
      "source": [
        "from Bio.Align.Applications import ClustalwCommandline\n",
        "# help(ClustalwCommandline)"
      ],
      "execution_count": 6,
      "outputs": []
    },
    {
      "cell_type": "markdown",
      "metadata": {
        "id": "_7D_GIt-FoPV",
        "colab_type": "text"
      },
      "source": [
        "### Pandas"
      ]
    },
    {
      "cell_type": "code",
      "metadata": {
        "id": "_fWqcfJg_iod",
        "colab_type": "code",
        "colab": {}
      },
      "source": [
        "import pandas as pd"
      ],
      "execution_count": 7,
      "outputs": []
    },
    {
      "cell_type": "markdown",
      "metadata": {
        "id": "qGqIQkim7q1J",
        "colab_type": "text"
      },
      "source": [
        "### OS (operating system)"
      ]
    },
    {
      "cell_type": "code",
      "metadata": {
        "id": "Qe-92PaZ76iU",
        "colab_type": "code",
        "colab": {}
      },
      "source": [
        "from os.path import join"
      ],
      "execution_count": 8,
      "outputs": []
    },
    {
      "cell_type": "markdown",
      "metadata": {
        "id": "2r0hnK3EGJ9h",
        "colab_type": "text"
      },
      "source": [
        "## *Variables to file paths*"
      ]
    },
    {
      "cell_type": "markdown",
      "metadata": {
        "id": "WGs0RGZUNnKR",
        "colab_type": "text"
      },
      "source": [
        "### *data*"
      ]
    },
    {
      "cell_type": "code",
      "metadata": {
        "id": "raiVP4DuGbzR",
        "colab_type": "code",
        "colab": {
          "base_uri": "https://localhost:8080/",
          "height": 35
        },
        "outputId": "239e985a-472b-44b5-f14a-0f805db4b299"
      },
      "source": [
        "data_path = join(PROJECT_PATH, \"data\")\n",
        "multi_fasta_path = join(PROJECT_PATH, data_path, \"multi-fasta\")\n",
        "print(join(data_path, multi_fasta_path))"
      ],
      "execution_count": 9,
      "outputs": [
        {
          "output_type": "stream",
          "text": [
            "/content/drive/My Drive/Projects_phD/2020/bioinfo-training/data/multi-fasta\n"
          ],
          "name": "stdout"
        }
      ]
    },
    {
      "cell_type": "markdown",
      "metadata": {
        "id": "XwnjMAV3OAaq",
        "colab_type": "text"
      },
      "source": [
        "### *processed_data*"
      ]
    },
    {
      "cell_type": "code",
      "metadata": {
        "id": "Oxc1oqPdtas3",
        "colab_type": "code",
        "colab": {
          "base_uri": "https://localhost:8080/",
          "height": 35
        },
        "outputId": "818c9858-6f48-4afc-9fe2-8d49243932f8"
      },
      "source": [
        "processed_data_path = join(PROJECT_PATH, \"processed_data\")\n",
        "print(processed_data_path)"
      ],
      "execution_count": 10,
      "outputs": [
        {
          "output_type": "stream",
          "text": [
            "/content/drive/My Drive/Projects_phD/2020/bioinfo-training/processed_data\n"
          ],
          "name": "stdout"
        }
      ]
    },
    {
      "cell_type": "markdown",
      "metadata": {
        "id": "ig5YezJHOH8a",
        "colab_type": "text"
      },
      "source": [
        "### *results*"
      ]
    },
    {
      "cell_type": "code",
      "metadata": {
        "id": "T7pIFOc-th6L",
        "colab_type": "code",
        "colab": {
          "base_uri": "https://localhost:8080/",
          "height": 35
        },
        "outputId": "a2a7b2ac-a37c-4ba9-9d4c-25be89e0edaf"
      },
      "source": [
        "results = join(PROJECT_PATH, \"results\")\n",
        "print(results)"
      ],
      "execution_count": 11,
      "outputs": [
        {
          "output_type": "stream",
          "text": [
            "/content/drive/My Drive/Projects_phD/2020/bioinfo-training/results\n"
          ],
          "name": "stdout"
        }
      ]
    },
    {
      "cell_type": "markdown",
      "metadata": {
        "id": "ntziInL7OSmZ",
        "colab_type": "text"
      },
      "source": [
        "### *outputs*"
      ]
    },
    {
      "cell_type": "code",
      "metadata": {
        "id": "RIkU6jCstl7e",
        "colab_type": "code",
        "colab": {
          "base_uri": "https://localhost:8080/",
          "height": 35
        },
        "outputId": "6e44147e-ba06-4471-b61c-8a98b9c1e92d"
      },
      "source": [
        "outputs = join(PROJECT_PATH, \"outputs\")\n",
        "print(outputs)"
      ],
      "execution_count": 12,
      "outputs": [
        {
          "output_type": "stream",
          "text": [
            "/content/drive/My Drive/Projects_phD/2020/bioinfo-training/outputs\n"
          ],
          "name": "stdout"
        }
      ]
    },
    {
      "cell_type": "markdown",
      "metadata": {
        "id": "VLUUXL4aRAo3",
        "colab_type": "text"
      },
      "source": [
        "## src/scripts"
      ]
    },
    {
      "cell_type": "markdown",
      "metadata": {
        "id": "ygCijtMVvIOO",
        "colab_type": "text"
      },
      "source": [
        "### Making file folders and subfolders"
      ]
    },
    {
      "cell_type": "code",
      "metadata": {
        "id": "l1zsVNwAvwdD",
        "colab_type": "code",
        "colab": {
          "base_uri": "https://localhost:8080/",
          "height": 35
        },
        "outputId": "5be87c1b-d12c-4793-b7aa-4d10535a6720"
      },
      "source": [
        "def make_dirs(parent_dir, dir):\n",
        "  '''crea un directorio madre y su subdirectorio\n",
        "  retorna (return) o imprime (print) la lista de sudirectorios dentro del directorio madre'''\n",
        "  path = join(parent_dir, dir) # ver como importe este modulo, podría poner os.path.join()\n",
        "  if not os.path.exists(path):\n",
        "    os.makedirs(path)\n",
        "  print(os.listdir(parent_dir)) # es correcto esta forma o con return?\n",
        "  # return os.listdir(parent_dir)\n",
        "\n",
        "# Calling function make_dirs\n",
        "make_dirs(data_path, multi_fasta_path)\n",
        "# print(os.getcwd())\n",
        "# os.listdir(data_path)"
      ],
      "execution_count": 13,
      "outputs": [
        {
          "output_type": "stream",
          "text": [
            "['multi-fasta']\n"
          ],
          "name": "stdout"
        }
      ]
    },
    {
      "cell_type": "code",
      "metadata": {
        "id": "Z1KxaoaXCbjF",
        "colab_type": "code",
        "colab": {}
      },
      "source": [
        "cline = ClustalwCommandline(\"clustalw2\", infile=\"opuntia.fasta\")"
      ],
      "execution_count": 14,
      "outputs": []
    },
    {
      "cell_type": "markdown",
      "metadata": {
        "id": "OBfxxJpk5SOh",
        "colab_type": "text"
      },
      "source": [
        "# Guardando cambios a GitHub\n",
        "SOURCE = https://zerowithdot.com/colab-github-workflow/"
      ]
    },
    {
      "cell_type": "code",
      "metadata": {
        "id": "9sKi6UVg5qZe",
        "colab_type": "code",
        "colab": {
          "base_uri": "https://localhost:8080/",
          "height": 1000
        },
        "outputId": "d38dce23-5313-4485-dbd9-d61b2670d57d"
      },
      "source": [
        "!mkdir ./temp\n",
        "!git clone \"https://{GIT_TOKEN}@github.com/{GIT_USERNAME}/{GIT_REPOSITORY}.git\" ./temp\n",
        "!rsync -aP --exclude=data/ \"{PROJECT_PATH}\"/* ./temp\n",
        "\n",
        "%cd ./temp\n",
        "!git add .\n",
        "!git commit -m '\"{GIT_COMMIT_MESSAGE}\"'\n",
        "!git config --global user.email \"{GIT_EMAIL}\"\n",
        "!git config --global user.name \"{GIT_NAME}\"\n",
        "!git push origin \"{GIT_BRANCH_NAME}\"\n",
        "%cd /content\n",
        "!rm -rf ./temp"
      ],
      "execution_count": 15,
      "outputs": [
        {
          "output_type": "stream",
          "text": [
            "Cloning into './temp'...\n",
            "warning: You appear to have cloned an empty repository.\n",
            "sending incremental file list\n",
            "bioinfo-training/\n",
            "bioinfo-training/.git/\n",
            "bioinfo-training/.git/HEAD\n",
            "             23 100%    0.00kB/s    0:00:00 (xfr#1, to-chk=50/54)\n",
            "bioinfo-training/.git/config\n",
            "            338 100%    1.13kB/s    0:00:00 (xfr#2, to-chk=49/54)\n",
            "bioinfo-training/.git/description\n",
            "             73 100%    0.13kB/s    0:00:00 (xfr#3, to-chk=48/54)\n",
            "bioinfo-training/.git/branches/\n",
            "bioinfo-training/.git/hooks/\n",
            "bioinfo-training/.git/hooks/applypatch-msg.sample\n",
            "            478 100%    0.66kB/s    0:00:00 (xfr#4, to-chk=42/54)\n",
            "bioinfo-training/.git/hooks/commit-msg.sample\n",
            "            896 100%    0.93kB/s    0:00:00 (xfr#5, to-chk=41/54)\n",
            "bioinfo-training/.git/hooks/fsmonitor-watchman.sample\n",
            "          3,327 100%    2.84kB/s    0:00:01 (xfr#6, to-chk=40/54)\n",
            "bioinfo-training/.git/hooks/post-update.sample\n",
            "            189 100%    0.14kB/s    0:00:01 (xfr#7, to-chk=39/54)\n",
            "bioinfo-training/.git/hooks/pre-applypatch.sample\n",
            "            424 100%    0.00kB/s    0:00:00 (xfr#8, to-chk=38/54)\n",
            "bioinfo-training/.git/hooks/pre-commit.sample\n",
            "          1,642 100%    8.62kB/s    0:00:00 (xfr#9, to-chk=37/54)\n",
            "bioinfo-training/.git/hooks/pre-push.sample\n",
            "          1,348 100%    3.49kB/s    0:00:00 (xfr#10, to-chk=36/54)\n",
            "bioinfo-training/.git/hooks/pre-rebase.sample\n",
            "          4,898 100%    8.16kB/s    0:00:00 (xfr#11, to-chk=35/54)\n",
            "bioinfo-training/.git/hooks/pre-receive.sample\n",
            "            544 100%    0.66kB/s    0:00:00 (xfr#12, to-chk=34/54)\n",
            "bioinfo-training/.git/hooks/prepare-commit-msg.sample\n",
            "          1,492 100%    1.41kB/s    0:00:01 (xfr#13, to-chk=33/54)\n",
            "bioinfo-training/.git/hooks/update.sample\n",
            "          3,610 100%    2.83kB/s    0:00:01 (xfr#14, to-chk=32/54)\n",
            "bioinfo-training/.git/info/\n",
            "bioinfo-training/.git/info/exclude\n",
            "            240 100%    0.00kB/s    0:00:00 (xfr#15, to-chk=31/54)\n",
            "bioinfo-training/.git/objects/\n",
            "bioinfo-training/.git/objects/info/\n",
            "bioinfo-training/.git/objects/pack/\n",
            "bioinfo-training/.git/refs/\n",
            "bioinfo-training/.git/refs/heads/\n",
            "bioinfo-training/.git/refs/tags/\n",
            "temp/\n",
            "temp/.git/\n",
            "temp/.git/HEAD\n",
            "             23 100%   22.46kB/s    0:00:00 (xfr#16, to-chk=23/54)\n",
            "temp/.git/config\n",
            "            338 100%  330.08kB/s    0:00:00 (xfr#17, to-chk=22/54)\n",
            "temp/.git/description\n",
            "             73 100%   35.64kB/s    0:00:00 (xfr#18, to-chk=21/54)\n",
            "temp/.git/branches/\n",
            "temp/.git/hooks/\n",
            "temp/.git/hooks/applypatch-msg.sample\n",
            "            478 100%  233.40kB/s    0:00:00 (xfr#19, to-chk=15/54)\n",
            "temp/.git/hooks/commit-msg.sample\n",
            "            896 100%  291.67kB/s    0:00:00 (xfr#20, to-chk=14/54)\n",
            "temp/.git/hooks/fsmonitor-watchman.sample\n",
            "          3,327 100%  812.26kB/s    0:00:00 (xfr#21, to-chk=13/54)\n",
            "temp/.git/hooks/post-update.sample\n",
            "            189 100%   46.14kB/s    0:00:00 (xfr#22, to-chk=12/54)\n",
            "temp/.git/hooks/pre-applypatch.sample\n",
            "            424 100%   82.81kB/s    0:00:00 (xfr#23, to-chk=11/54)\n",
            "temp/.git/hooks/pre-commit.sample\n",
            "          1,642 100%  267.25kB/s    0:00:00 (xfr#24, to-chk=10/54)\n",
            "temp/.git/hooks/pre-push.sample\n",
            "          1,348 100%  219.40kB/s    0:00:00 (xfr#25, to-chk=9/54)\n",
            "temp/.git/hooks/pre-rebase.sample\n",
            "          4,898 100%  683.31kB/s    0:00:00 (xfr#26, to-chk=8/54)\n",
            "temp/.git/hooks/pre-receive.sample\n",
            "            544 100%   66.41kB/s    0:00:00 (xfr#27, to-chk=7/54)\n",
            "temp/.git/hooks/prepare-commit-msg.sample\n",
            "          1,492 100%  182.13kB/s    0:00:00 (xfr#28, to-chk=6/54)\n",
            "temp/.git/hooks/update.sample\n",
            "          3,610 100%  391.71kB/s    0:00:00 (xfr#29, to-chk=5/54)\n",
            "temp/.git/info/\n",
            "temp/.git/info/exclude\n",
            "            240 100%   26.04kB/s    0:00:00 (xfr#30, to-chk=4/54)\n",
            "temp/.git/objects/\n",
            "temp/.git/objects/info/\n",
            "temp/.git/objects/pack/\n",
            "temp/.git/refs/\n",
            "temp/.git/refs/heads/\n",
            "temp/.git/refs/tags/\n",
            "temp/bioinfo-training/\n",
            "temp/temp/\n",
            "/content/drive/My Drive/Projects_phD/2020/bioinfo-training/temp\n",
            "On branch master\n",
            "\n",
            "Initial commit\n",
            "\n",
            "nothing to commit\n",
            "error: src refspec {GIT_BRANCH_NAME} does not match any.\n",
            "error: failed to push some refs to 'https://e3db3485dbfc060c93f892fc7f55da6985028d1d@github.com/matiascarletti/bioinfo-training.git'\n",
            "/content\n"
          ],
          "name": "stdout"
        }
      ]
    },
    {
      "cell_type": "code",
      "metadata": {
        "id": "xlZKD9mrnVqi",
        "colab_type": "code",
        "colab": {}
      },
      "source": [
        ""
      ],
      "execution_count": null,
      "outputs": []
    }
  ]
}